{
  "nbformat": 4,
  "nbformat_minor": 0,
  "metadata": {
    "colab": {
      "name": "conditional_MNIST_GAN.ipynb",
      "provenance": []
    },
    "kernelspec": {
      "name": "python3",
      "display_name": "Python 3"
    },
    "widgets": {
      "application/vnd.jupyter.widget-state+json": {
        "2b6917a2d3b2407883f28c4263411530": {
          "model_module": "@jupyter-widgets/controls",
          "model_name": "HBoxModel",
          "state": {
            "_view_name": "HBoxView",
            "_dom_classes": [],
            "_model_name": "HBoxModel",
            "_view_module": "@jupyter-widgets/controls",
            "_model_module_version": "1.5.0",
            "_view_count": null,
            "_view_module_version": "1.5.0",
            "box_style": "",
            "layout": "IPY_MODEL_c450032418794cd9b5b48ac1b00fac8f",
            "_model_module": "@jupyter-widgets/controls",
            "children": [
              "IPY_MODEL_745c32ea80c94955a564f0ca095482cc",
              "IPY_MODEL_b6359f6c5ac94bf6af92eac1a17c741a"
            ]
          }
        },
        "c450032418794cd9b5b48ac1b00fac8f": {
          "model_module": "@jupyter-widgets/base",
          "model_name": "LayoutModel",
          "state": {
            "_view_name": "LayoutView",
            "grid_template_rows": null,
            "right": null,
            "justify_content": null,
            "_view_module": "@jupyter-widgets/base",
            "overflow": null,
            "_model_module_version": "1.2.0",
            "_view_count": null,
            "flex_flow": "row wrap",
            "width": "100%",
            "min_width": null,
            "border": null,
            "align_items": null,
            "bottom": null,
            "_model_module": "@jupyter-widgets/base",
            "top": null,
            "grid_column": null,
            "overflow_y": null,
            "overflow_x": null,
            "grid_auto_flow": null,
            "grid_area": null,
            "grid_template_columns": null,
            "flex": null,
            "_model_name": "LayoutModel",
            "justify_items": null,
            "grid_row": null,
            "max_height": null,
            "align_content": null,
            "visibility": null,
            "align_self": null,
            "height": null,
            "min_height": null,
            "padding": null,
            "grid_auto_rows": null,
            "grid_gap": null,
            "max_width": null,
            "order": null,
            "_view_module_version": "1.2.0",
            "grid_template_areas": null,
            "object_position": null,
            "object_fit": null,
            "grid_auto_columns": null,
            "margin": null,
            "display": "inline-flex",
            "left": null
          }
        },
        "745c32ea80c94955a564f0ca095482cc": {
          "model_module": "@jupyter-widgets/controls",
          "model_name": "FloatProgressModel",
          "state": {
            "_view_name": "ProgressView",
            "style": "IPY_MODEL_93f6ca660bc048a1a11232025cd674ea",
            "_dom_classes": [],
            "description": "Epoch 18:  13%",
            "_model_name": "FloatProgressModel",
            "bar_style": "info",
            "max": 938,
            "_view_module": "@jupyter-widgets/controls",
            "_model_module_version": "1.5.0",
            "value": 120,
            "_view_count": null,
            "_view_module_version": "1.5.0",
            "orientation": "horizontal",
            "min": 0,
            "description_tooltip": null,
            "_model_module": "@jupyter-widgets/controls",
            "layout": "IPY_MODEL_21c0201b2c2549daabd21e044ea38f56"
          }
        },
        "b6359f6c5ac94bf6af92eac1a17c741a": {
          "model_module": "@jupyter-widgets/controls",
          "model_name": "HTMLModel",
          "state": {
            "_view_name": "HTMLView",
            "style": "IPY_MODEL_e18a5f5ec9f64c18a74b1e5e6b81710c",
            "_dom_classes": [],
            "description": "",
            "_model_name": "HTMLModel",
            "placeholder": "​",
            "_view_module": "@jupyter-widgets/controls",
            "_model_module_version": "1.5.0",
            "value": " 120/938 [00:03&lt;00:20, 39.93it/s, loss=0.31, v_num=2]",
            "_view_count": null,
            "_view_module_version": "1.5.0",
            "description_tooltip": null,
            "_model_module": "@jupyter-widgets/controls",
            "layout": "IPY_MODEL_c5df4e04fd664ac4a32b4e6ba604f4e1"
          }
        },
        "93f6ca660bc048a1a11232025cd674ea": {
          "model_module": "@jupyter-widgets/controls",
          "model_name": "ProgressStyleModel",
          "state": {
            "_view_name": "StyleView",
            "_model_name": "ProgressStyleModel",
            "description_width": "initial",
            "_view_module": "@jupyter-widgets/base",
            "_model_module_version": "1.5.0",
            "_view_count": null,
            "_view_module_version": "1.2.0",
            "bar_color": null,
            "_model_module": "@jupyter-widgets/controls"
          }
        },
        "21c0201b2c2549daabd21e044ea38f56": {
          "model_module": "@jupyter-widgets/base",
          "model_name": "LayoutModel",
          "state": {
            "_view_name": "LayoutView",
            "grid_template_rows": null,
            "right": null,
            "justify_content": null,
            "_view_module": "@jupyter-widgets/base",
            "overflow": null,
            "_model_module_version": "1.2.0",
            "_view_count": null,
            "flex_flow": null,
            "width": null,
            "min_width": null,
            "border": null,
            "align_items": null,
            "bottom": null,
            "_model_module": "@jupyter-widgets/base",
            "top": null,
            "grid_column": null,
            "overflow_y": null,
            "overflow_x": null,
            "grid_auto_flow": null,
            "grid_area": null,
            "grid_template_columns": null,
            "flex": "2",
            "_model_name": "LayoutModel",
            "justify_items": null,
            "grid_row": null,
            "max_height": null,
            "align_content": null,
            "visibility": null,
            "align_self": null,
            "height": null,
            "min_height": null,
            "padding": null,
            "grid_auto_rows": null,
            "grid_gap": null,
            "max_width": null,
            "order": null,
            "_view_module_version": "1.2.0",
            "grid_template_areas": null,
            "object_position": null,
            "object_fit": null,
            "grid_auto_columns": null,
            "margin": null,
            "display": null,
            "left": null
          }
        },
        "e18a5f5ec9f64c18a74b1e5e6b81710c": {
          "model_module": "@jupyter-widgets/controls",
          "model_name": "DescriptionStyleModel",
          "state": {
            "_view_name": "StyleView",
            "_model_name": "DescriptionStyleModel",
            "description_width": "",
            "_view_module": "@jupyter-widgets/base",
            "_model_module_version": "1.5.0",
            "_view_count": null,
            "_view_module_version": "1.2.0",
            "_model_module": "@jupyter-widgets/controls"
          }
        },
        "c5df4e04fd664ac4a32b4e6ba604f4e1": {
          "model_module": "@jupyter-widgets/base",
          "model_name": "LayoutModel",
          "state": {
            "_view_name": "LayoutView",
            "grid_template_rows": null,
            "right": null,
            "justify_content": null,
            "_view_module": "@jupyter-widgets/base",
            "overflow": null,
            "_model_module_version": "1.2.0",
            "_view_count": null,
            "flex_flow": null,
            "width": null,
            "min_width": null,
            "border": null,
            "align_items": null,
            "bottom": null,
            "_model_module": "@jupyter-widgets/base",
            "top": null,
            "grid_column": null,
            "overflow_y": null,
            "overflow_x": null,
            "grid_auto_flow": null,
            "grid_area": null,
            "grid_template_columns": null,
            "flex": null,
            "_model_name": "LayoutModel",
            "justify_items": null,
            "grid_row": null,
            "max_height": null,
            "align_content": null,
            "visibility": null,
            "align_self": null,
            "height": null,
            "min_height": null,
            "padding": null,
            "grid_auto_rows": null,
            "grid_gap": null,
            "max_width": null,
            "order": null,
            "_view_module_version": "1.2.0",
            "grid_template_areas": null,
            "object_position": null,
            "object_fit": null,
            "grid_auto_columns": null,
            "margin": null,
            "display": null,
            "left": null
          }
        }
      }
    },
    "accelerator": "GPU"
  },
  "cells": [
    {
      "cell_type": "code",
      "metadata": {
        "id": "qyOvpETNOvGU"
      },
      "source": [
        "!pip install pytorch-lightning-bolts"
      ],
      "execution_count": null,
      "outputs": []
    },
    {
      "cell_type": "code",
      "metadata": {
        "colab": {
          "base_uri": "https://localhost:8080/"
        },
        "id": "krYJdyWdSqHp",
        "outputId": "0792acf0-2ca4-4263-c0c8-642fa4d5d5d1"
      },
      "source": [
        "from google.colab import drive\r\n",
        "drive.mount('/content/drive')\r\n",
        "import os\r\n",
        "os.chdir('/content/drive/MyDrive/test')\r\n",
        "\r\n",
        "import argparse\r\n",
        "import numpy as np\r\n",
        "import matplotlib.pyplot as plt\r\n",
        "\r\n",
        "import torch\r\n",
        "from torch import nn\r\n",
        "from torch.nn import functional as F\r\n",
        "from torch.utils.data import DataLoader\r\n",
        "import pytorch_lightning as pl\r\n",
        "from torchvision.datasets import MNIST\r\n",
        "from torchvision import transforms"
      ],
      "execution_count": 100,
      "outputs": [
        {
          "output_type": "stream",
          "text": [
            "Drive already mounted at /content/drive; to attempt to forcibly remount, call drive.mount(\"/content/drive\", force_remount=True).\n"
          ],
          "name": "stdout"
        }
      ]
    },
    {
      "cell_type": "code",
      "metadata": {
        "id": "xGUNgGWxByGf"
      },
      "source": [
        "IMAGE_SHAPE = (1, 28, 28)\r\n",
        "IMAGE_SIZE = int(np.prod(IMAGE_SHAPE))\r\n",
        "LATENT_DIM = 100\r\n",
        "N_CLASSES = 10\r\n",
        "LEARN_RATE = 0.0002\r\n",
        "BETA1 = 0.5\r\n",
        "BETA2 = 0.999"
      ],
      "execution_count": 101,
      "outputs": []
    },
    {
      "cell_type": "code",
      "metadata": {
        "id": "wRD4kwHAGOUq"
      },
      "source": [
        "class Generator(nn.Module):\r\n",
        "    def __init__(self):\r\n",
        "        super().__init__()\r\n",
        "\r\n",
        "        self.label_embed = nn.Embedding(N_CLASSES, N_CLASSES)\r\n",
        "\r\n",
        "        def block(in_features, out_features, normalize=True):\r\n",
        "            layers = [nn.Linear(in_features, out_features)]\r\n",
        "            if normalize:\r\n",
        "                layers.append(nn.BatchNorm1d(out_features, 0.8))\r\n",
        "            layers.append(nn.LeakyReLU(0.2, inplace=True))\r\n",
        "            return layers\r\n",
        "\r\n",
        "        hidden_size = 256\r\n",
        "        self.net = nn.Sequential(\r\n",
        "            *block(N_CLASSES + LATENT_DIM, hidden_size, normalize=False),\r\n",
        "            *block(hidden_size, hidden_size*2),\r\n",
        "            *block(hidden_size*2, hidden_size*4),\r\n",
        "            nn.Linear(hidden_size*4, IMAGE_SIZE),\r\n",
        "            nn.Tanh()\r\n",
        "        )\r\n",
        "\r\n",
        "    def forward(self, noise, label):\r\n",
        "        input_data = torch.cat((self.label_embed(label), noise), dim=1)\r\n",
        "        return self.net(input_data)"
      ],
      "execution_count": 102,
      "outputs": []
    },
    {
      "cell_type": "code",
      "metadata": {
        "id": "dGG6w-YySQhj"
      },
      "source": [
        "class Discriminator(nn.Module):\r\n",
        "    def __init__(self):\r\n",
        "        super().__init__()\r\n",
        "\r\n",
        "        self.label_embed = nn.Embedding(N_CLASSES, N_CLASSES)\r\n",
        "\r\n",
        "        def block(in_features, out_features, dropout=True):\r\n",
        "            layers = [nn.Linear(in_features, out_features)]\r\n",
        "            if dropout:\r\n",
        "                layers.append(nn.Dropout(0.4))\r\n",
        "            layers.append(nn.LeakyReLU(0.2, inplace=True))\r\n",
        "            return layers\r\n",
        "\r\n",
        "        hidden_size = 1024\r\n",
        "        self.net = nn.Sequential(\r\n",
        "            *block(N_CLASSES + IMAGE_SIZE, hidden_size, dropout=False),\r\n",
        "            *block(hidden_size, hidden_size//2),\r\n",
        "            *block(hidden_size//2, hidden_size//4),\r\n",
        "            nn.Linear(hidden_size//4, 1)\r\n",
        "        )\r\n",
        "\r\n",
        "    def forward(self, image, label):\r\n",
        "        image = image.view(image.size(0), -1)\r\n",
        "        input_data = torch.cat((image, self.label_embed(label)), dim=1)\r\n",
        "        return self.net(input_data)"
      ],
      "execution_count": 103,
      "outputs": []
    },
    {
      "cell_type": "code",
      "metadata": {
        "id": "C3usPT0HV1D8"
      },
      "source": [
        "class GANModel(pl.LightningModule):\r\n",
        "    def __init__(self):\r\n",
        "        super().__init__()\r\n",
        "        self.generator = Generator()\r\n",
        "        self.discriminator = Discriminator()\r\n",
        "        self.adversarial_loss = nn.MSELoss()\r\n",
        "        self.G_image = None\r\n",
        "        self.G_image_label = None\r\n",
        "\r\n",
        "    def forward(self, noise, label):\r\n",
        "        return self.generator(noise, label)\r\n",
        "\r\n",
        "    def training_step(self, batch, batch_idx, optimizer_idx):\r\n",
        "        image, label = batch\r\n",
        "        batch_size = image.size(0)\r\n",
        "        real = torch.ones(batch_size, 1).cuda()\r\n",
        "        fake = torch.zeros(batch_size, 1).cuda()\r\n",
        "\r\n",
        "        if optimizer_idx == 0:\r\n",
        "            random_noise = torch.rand(batch_size, LATENT_DIM).cuda()\r\n",
        "            self.G_image_label = torch.randint(N_CLASSES, (batch_size,)).cuda()\r\n",
        "\r\n",
        "            self.G_image = self.generator(random_noise, self.G_image_label)\r\n",
        "            D_pred = self.discriminator(self.G_image, self.G_image_label)\r\n",
        "            loss = self.adversarial_loss(D_pred, real)\r\n",
        "\r\n",
        "        if optimizer_idx == 1:\r\n",
        "            D_pred_real = self.discriminator(image, label)\r\n",
        "            loss_real = self.adversarial_loss(D_pred_real, real)\r\n",
        "            \r\n",
        "            self.G_image = self.G_image.detach()\r\n",
        "            D_pred_fake = self.discriminator(self.G_image, self.G_image_label)\r\n",
        "            loss_fake = self.adversarial_loss(D_pred_fake, fake)\r\n",
        "\r\n",
        "            loss = (loss_real + loss_fake) / 2\r\n",
        "        return loss\r\n",
        "\r\n",
        "    def configure_optimizers(self):\r\n",
        "        return [torch.optim.Adam(self.generator.parameters(),\r\n",
        "                                 lr=LEARN_RATE, betas=(BETA1, BETA2)),\r\n",
        "                torch.optim.Adam(self.discriminator.parameters(),\r\n",
        "                                 lr=LEARN_RATE, betas=(BETA1, BETA2))]\r\n",
        "\r\n",
        "    def train_dataloader(self):\r\n",
        "        process = transforms.Compose([transforms.ToTensor(),\r\n",
        "                                      transforms.Normalize([0.5], [0.5])])\r\n",
        "        train_dataset = MNIST(os.getcwd(), train=True, transform=process,\r\n",
        "                              download=True)\r\n",
        "        return DataLoader(train_dataset, batch_size=64, shuffle=True)"
      ],
      "execution_count": 104,
      "outputs": []
    },
    {
      "cell_type": "code",
      "metadata": {
        "colab": {
          "base_uri": "https://localhost:8080/"
        },
        "id": "6uMISv4JmHyp",
        "outputId": "bdb9fc6d-289a-49bc-c4d1-538e98e80b76"
      },
      "source": [
        "model = GANModel()\r\n",
        "trainer = pl.Trainer(max_epochs=200, gpus=1, precision=16, progress_bar_refresh_rate=60)"
      ],
      "execution_count": 112,
      "outputs": [
        {
          "output_type": "stream",
          "text": [
            "GPU available: True, used: True\n",
            "TPU available: None, using: 0 TPU cores\n",
            "LOCAL_RANK: 0 - CUDA_VISIBLE_DEVICES: [0]\n",
            "Using native 16bit precision.\n"
          ],
          "name": "stderr"
        }
      ]
    },
    {
      "cell_type": "code",
      "metadata": {
        "colab": {
          "base_uri": "https://localhost:8080/",
          "height": 226,
          "referenced_widgets": [
            "2b6917a2d3b2407883f28c4263411530",
            "c450032418794cd9b5b48ac1b00fac8f",
            "745c32ea80c94955a564f0ca095482cc",
            "b6359f6c5ac94bf6af92eac1a17c741a",
            "93f6ca660bc048a1a11232025cd674ea",
            "21c0201b2c2549daabd21e044ea38f56",
            "e18a5f5ec9f64c18a74b1e5e6b81710c",
            "c5df4e04fd664ac4a32b4e6ba604f4e1"
          ]
        },
        "id": "g_Eg7jDRmuEi",
        "outputId": "cc5c5380-59b2-49d2-c6aa-a50f55e4821b"
      },
      "source": [
        "trainer.fit(model)"
      ],
      "execution_count": null,
      "outputs": [
        {
          "output_type": "stream",
          "text": [
            "\n",
            "  | Name             | Type          | Params\n",
            "---------------------------------------------------\n",
            "0 | generator        | Generator     | 1.5 M \n",
            "1 | discriminator    | Discriminator | 1.5 M \n",
            "2 | adversarial_loss | MSELoss       | 0     \n",
            "---------------------------------------------------\n",
            "3.0 M     Trainable params\n",
            "0         Non-trainable params\n",
            "3.0 M     Total params\n"
          ],
          "name": "stderr"
        },
        {
          "output_type": "display_data",
          "data": {
            "application/vnd.jupyter.widget-view+json": {
              "model_id": "2b6917a2d3b2407883f28c4263411530",
              "version_minor": 0,
              "version_major": 2
            },
            "text/plain": [
              "HBox(children=(FloatProgress(value=1.0, bar_style='info', description='Training', layout=Layout(flex='2'), max…"
            ]
          },
          "metadata": {
            "tags": []
          }
        }
      ]
    },
    {
      "cell_type": "code",
      "metadata": {
        "id": "X9t4BgH66ewQ"
      },
      "source": [
        "model.eval()\r\n",
        "\r\n",
        "def get_dataloader():\r\n",
        "    process = transforms.Compose([transforms.ToTensor(),\r\n",
        "                                  transforms.Normalize([0.5], [0.5])])\r\n",
        "    train_dataset = MNIST(os.getcwd(), train=True, transform=process,\r\n",
        "                          download=True)\r\n",
        "    return DataLoader(train_dataset, batch_size=1, shuffle=True)\r\n"
      ],
      "execution_count": 107,
      "outputs": []
    },
    {
      "cell_type": "code",
      "metadata": {
        "colab": {
          "base_uri": "https://localhost:8080/",
          "height": 281
        },
        "id": "JBKSn4dhta8f",
        "outputId": "09dc574c-d78b-4365-9e1a-d9154e5b6a38"
      },
      "source": [
        "random_noise = torch.randn(1, LATENT_DIM)\r\n",
        "label = torch.LongTensor([7])\r\n",
        "y_pred = model(random_noise, label)\r\n",
        "score = model.discriminator(y_pred, label).item()\r\n",
        "\r\n",
        "plt.title(f\"Discriminator: {score * 100:.1f}%\")\r\n",
        "plt.imshow(y_pred.detach().view(28, 28))\r\n",
        "plt.show()"
      ],
      "execution_count": 108,
      "outputs": [
        {
          "output_type": "display_data",
          "data": {
            "image/png": "[encoded data removed]",
            "text/plain": [
              "<Figure size 432x288 with 1 Axes>"
            ]
          },
          "metadata": {
            "tags": [],
            "needs_background": "light"
          }
        }
      ]
    },
    {
      "cell_type": "code",
      "metadata": {
        "colab": {
          "base_uri": "https://localhost:8080/",
          "height": 281
        },
        "id": "2kurWL1W76PI",
        "outputId": "02790dbd-0394-48ae-c8b6-1764a6376d09"
      },
      "source": [
        "dataset = get_dataloader()\r\n",
        "image, label = iter(dataset).next()\r\n",
        "\r\n",
        "score = model.discriminator(image, label).item()\r\n",
        "\r\n",
        "plt.title(f\"Discriminator: {score * 100:.1f}%\")\r\n",
        "plt.imshow(image.view(28, 28))\r\n",
        "plt.show()"
      ],
      "execution_count": 109,
      "outputs": [
        {
          "output_type": "display_data",
          "data": {
            "image/png": "[encoded data removed]",
            "text/plain": [
              "<Figure size 432x288 with 1 Axes>"
            ]
          },
          "metadata": {
            "tags": [],
            "needs_background": "light"
          }
        }
      ]
    }
  ]
}